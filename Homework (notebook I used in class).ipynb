{
 "cells": [
  {
   "cell_type": "markdown",
   "metadata": {},
   "source": [
    "# User-Defined Functions & Scoping"
   ]
  },
  {
   "cell_type": "markdown",
   "metadata": {},
   "source": [
    "## Tasks Today:\n",
    "\n",
    "\n",
    "1) Functions <br>\n",
    " &nbsp;&nbsp;&nbsp;&nbsp; a) User-Defined vs. Built-In Functions <br>\n",
    " &nbsp;&nbsp;&nbsp;&nbsp; b) Accepting Parameters <br>\n",
    " &nbsp;&nbsp;&nbsp;&nbsp; c) Default Parameters <br>\n",
    " &nbsp;&nbsp;&nbsp;&nbsp; d) Making an Argument Optional <br>\n",
    " &nbsp;&nbsp;&nbsp;&nbsp; e) Keyword Arguments <br>\n",
    " &nbsp;&nbsp;&nbsp;&nbsp; f) Returning Values <br>\n",
    " &nbsp;&nbsp;&nbsp;&nbsp; g) *args <br>\n",
    " &nbsp;&nbsp;&nbsp;&nbsp; h) Docstring <br>\n",
    " &nbsp;&nbsp;&nbsp;&nbsp; i) Using a User Function in a Loop <br>\n",
    "2) Scope\n",
    "3) Creating more User-Defined functions "
   ]
  },
  {
   "cell_type": "markdown",
   "metadata": {},
   "source": [
    "\n",
    "## Functions"
   ]
  },
  {
   "cell_type": "markdown",
   "metadata": {},
   "source": [
    "##### User-Defined vs. Built-In Functions"
   ]
  },
  {
   "cell_type": "code",
   "execution_count": 4,
   "metadata": {},
   "outputs": [
    {
     "name": "stdout",
     "output_type": "stream",
     "text": [
      "hello\n"
     ]
    },
    {
     "data": {
      "text/plain": [
       "'Hello World from Coding Temple'"
      ]
     },
     "execution_count": 4,
     "metadata": {},
     "output_type": "execute_result"
    }
   ],
   "source": [
    "#note that built-in functions can potentially slow down your program\n",
    "#user-defined functions can give you more controll over your program\n",
    "#ex of a built-in function\n",
    "print(\"hello\")\n",
    "\n",
    "#user-defined function\n",
    "def say_hello():\n",
    "    return 'Hello World from Coding Temple'\n",
    "\n",
    "\n",
    "say_hello()"
   ]
  },
  {
   "cell_type": "markdown",
   "metadata": {},
   "source": [
    "##### Accepting Parameters"
   ]
  },
  {
   "cell_type": "code",
   "execution_count": 6,
   "metadata": {
    "scrolled": true
   },
   "outputs": [
    {
     "name": "stdout",
     "output_type": "stream",
     "text": [
      "Hi my last name is Selvaggi, and my first name is Kelsey\n"
     ]
    }
   ],
   "source": [
    "#order always matters! paramaters are based on order\n",
    "#pass any type of variable into a function as a paramater ( strings, integers, floats, booleans, lists, dicts, etc.)\n",
    "\n",
    "def print_full_name(first_name, last_name):\n",
    "    return f\"Hi my last name is {last_name}, and my first name is {first_name}\"\n",
    "\n",
    "print(print_full_name('Kelsey', 'Selvaggi'))"
   ]
  },
  {
   "cell_type": "markdown",
   "metadata": {},
   "source": [
    "##### Default Parameters"
   ]
  },
  {
   "cell_type": "code",
   "execution_count": 9,
   "metadata": {},
   "outputs": [
    {
     "name": "stdout",
     "output_type": "stream",
     "text": [
      "The name's Bond..... James Bond\n",
      "The name's and the Giant Peach..... James and the Giant Peach\n"
     ]
    }
   ],
   "source": [
    "#defauly parameters MUST come after non-default parameters at ALL TIMES\n",
    "def agent_name(first_name, last_name = 'Bond'):\n",
    "    return f\"The name's {last_name}..... {first_name} {last_name}\"\n",
    "\n",
    "print(agent_name(\"James\"))\n",
    "print(agent_name(\"James\", \"and the Giant Peach\"))"
   ]
  },
  {
   "cell_type": "code",
   "execution_count": 10,
   "metadata": {},
   "outputs": [
    {
     "name": "stdout",
     "output_type": "stream",
     "text": [
      "Your birthday is that 11th day of October and you were born in 1980.\n",
      "Your birthday is that 21st day of September and you were born in 1980.\n"
     ]
    }
   ],
   "source": [
    "def oct_birthday(day, year, month = 'October'):\n",
    "    return f\"Your birthday is that {day} day of {month} and you were born in {year}.\"\n",
    "print(oct_birthday(\"11th\", 1980))\n",
    "print(oct_birthday(\"21st\", 1980, \"September\"))"
   ]
  },
  {
   "cell_type": "markdown",
   "metadata": {},
   "source": [
    "##### Making an Argument Optional"
   ]
  },
  {
   "cell_type": "code",
   "execution_count": 12,
   "metadata": {},
   "outputs": [
    {
     "name": "stdout",
     "output_type": "stream",
     "text": [
      "Hello my name is Mr.  Ed and I am a pretty cool horse... naaaaay\n",
      "Hello my name is Mrs. Sea Biscuit Ed and I am a pretty cool horse... naaaaay\n"
     ]
    }
   ],
   "source": [
    "def print_horse_name(first, middle = '', last = 'Ed'):\n",
    "    return f\"Hello my name is {first} {middle} {last} and I am a pretty cool horse... naaaaay\"\n",
    "print(print_horse_name('Mr.'))\n",
    "print(print_horse_name('Mrs.', 'Sea Biscuit'))"
   ]
  },
  {
   "cell_type": "markdown",
   "metadata": {},
   "source": [
    "##### Keyword Arguments"
   ]
  },
  {
   "cell_type": "code",
   "execution_count": 16,
   "metadata": {},
   "outputs": [
    {
     "name": "stdout",
     "output_type": "stream",
     "text": [
      "Mrs. Fantastic's power is invisibility\n",
      "Superman's power is flying\n"
     ]
    }
   ],
   "source": [
    "def print_hero(name, power = 'invisibility'):\n",
    "    return f\"{name}'s power is {power}\"\n",
    "\n",
    "print(print_hero(\"Mrs. Fantastic\"))\n",
    "print(print_hero(power = 'flying', name = 'Superman'))"
   ]
  },
  {
   "cell_type": "code",
   "execution_count": 21,
   "metadata": {},
   "outputs": [
    {
     "name": "stdout",
     "output_type": "stream",
     "text": [
      "Jim  favorite food is pizza\n"
     ]
    }
   ],
   "source": [
    "# Create a function (or more than one) that accepts positional, default, and optional arguments.\n",
    "def function(first_name, last_name = '', fav_food = 'pizza'):\n",
    "    return f\"{first_name} {last_name} favorite food is {fav_food}\"\n",
    "\n",
    "print(function(\"Jim\"))"
   ]
  },
  {
   "cell_type": "code",
   "execution_count": 22,
   "metadata": {},
   "outputs": [
    {
     "name": "stdout",
     "output_type": "stream",
     "text": [
      "My favorite comedy movie is Superbad !\n"
     ]
    }
   ],
   "source": [
    "def favorie_movie(movie_name, actor = '', genre = 'comedy'):\n",
    "    return f\"My favorite {genre} movie is {movie_name} {actor}!\"\n",
    "print(favorie_movie('Superbad'))\n"
   ]
  },
  {
   "cell_type": "code",
   "execution_count": 23,
   "metadata": {},
   "outputs": [
    {
     "name": "stdout",
     "output_type": "stream",
     "text": [
      "My favorite food is pizza. Sometimes I will order  appetizers, but I always get ice cream for dessert\n"
     ]
    }
   ],
   "source": [
    "def favorite_foods(entree, appetizer=\"\", dessert=\"ice cream\"):\n",
    "    return f\"My favorite food is {entree}. Sometimes I will order {appetizer} appetizers, but I always get {dessert} for dessert\"\n",
    "\n",
    "print(favorite_foods(\"pizza\"))\n"
   ]
  },
  {
   "cell_type": "code",
   "execution_count": 24,
   "metadata": {},
   "outputs": [
    {
     "name": "stdout",
     "output_type": "stream",
     "text": [
      "Class starts Monday at 9:30am CST.\n"
     ]
    }
   ],
   "source": [
    "def school_hours(day, time =\"9:30am\", time_zone = \"CST\"):\n",
    "    return f\"Class starts {day} at {time} {time_zone}.\"\n",
    "\n",
    "print(school_hours(\"Monday\",))\n"
   ]
  },
  {
   "cell_type": "markdown",
   "metadata": {},
   "source": [
    "# Creating a start, stop, step function"
   ]
  },
  {
   "cell_type": "code",
   "execution_count": 25,
   "metadata": {},
   "outputs": [
    {
     "name": "stdout",
     "output_type": "stream",
     "text": [
      "0\n",
      "1\n",
      "2\n",
      "3\n",
      "4\n",
      "5\n",
      "6\n",
      "7\n",
      "8\n",
      "9\n",
      "\n",
      "\n",
      "2\n",
      "4\n",
      "6\n",
      "8\n"
     ]
    }
   ],
   "source": [
    "def my_range(stop, start = 0, step = 1):\n",
    "    for i in range(start, stop, step):\n",
    "        print(i)\n",
    "\n",
    "my_range(10)\n",
    "print(\"\\n\")\n",
    "my_range(10, 2, 2)"
   ]
  },
  {
   "cell_type": "markdown",
   "metadata": {},
   "source": [
    "##### Returning Values"
   ]
  },
  {
   "cell_type": "code",
   "execution_count": 27,
   "metadata": {},
   "outputs": [
    {
     "name": "stdout",
     "output_type": "stream",
     "text": [
      "100\n"
     ]
    },
    {
     "data": {
      "text/plain": [
       "100"
      ]
     },
     "execution_count": 27,
     "metadata": {},
     "output_type": "execute_result"
    }
   ],
   "source": [
    "def add_nums(num1, num2):\n",
    "    return num1 + num2\n",
    "\n",
    "print(add_nums(50, 50))\n",
    "add_nums(56, 44)"
   ]
  },
  {
   "cell_type": "markdown",
   "metadata": {},
   "source": [
    "##### *args / **kwargs (keyword arguments)"
   ]
  },
  {
   "cell_type": "code",
   "execution_count": 28,
   "metadata": {},
   "outputs": [
    {
     "name": "stdout",
     "output_type": "stream",
     "text": [
      "These are positional arguments: 2\n",
      "These are our args: (10, 'megazord')\n",
      "These are our kwargs: {'names': ['Alex', 'Perry', 'Kelsey'], 'subject': 'Python'}\n"
     ]
    }
   ],
   "source": [
    "#*args stands for arguments, **kwargs stands for keyword arguments\n",
    "# and they can take any number of arguments and keywork arguments\n",
    "# must be last if they are present\n",
    "\n",
    "def print_args_kwargs(num1, *args, **kwargs):\n",
    "    print(f\"These are positional arguments: {num1}\")\n",
    "    print(f\"These are our args: {args}\")\n",
    "    print(f\"These are our kwargs: {kwargs}\")\n",
    "    \n",
    "print_args_kwargs(2, 10, \"megazord\", names=['Alex', 'Perry', 'Kelsey'], subject = 'Python')"
   ]
  },
  {
   "cell_type": "code",
   "execution_count": 31,
   "metadata": {},
   "outputs": [
    {
     "name": "stdout",
     "output_type": "stream",
     "text": [
      "Kelsey's top 3 games are ('Sekiro', 'Kingdom Hearts 2', 'Elden Ring'). Some other things Kelsey likes are: {'movies': ['Nightcrawler', 'Marvel movies', \"I don't have strong opinions on movies\"], 'shows': ['Breaking Bad', 'Buffy the Vampire Slayer', 'Futurama']}\n"
     ]
    }
   ],
   "source": [
    "# Write a function that accepts positional arguments, atleast 3 args and at least 2 kwargs and\n",
    "# prints out each argument and keyword argument on its own line.\n",
    "def fun(name, *games, **other):\n",
    "    print(f\"{name}'s top 3 games are {games}. Some other things {name} likes are: {other}\")\n",
    "\n",
    "fun(\"Kelsey\", \"Sekiro\", \"Kingdom Hearts 2\", \"Elden Ring\", movies = [\"Nightcrawler\", \"Marvel movies\", \"I don't have strong opinions on movies\"], shows = [\"Breaking Bad\", \"Buffy the Vampire Slayer\", \"Futurama\"])"
   ]
  },
  {
   "cell_type": "code",
   "execution_count": 33,
   "metadata": {},
   "outputs": [
    {
     "name": "stdout",
     "output_type": "stream",
     "text": [
      "This is my positional argument: \n",
      "my fav time of year is Fall\n",
      "\n",
      "These are my *args: \n",
      "These are the things I like to do: \n",
      "pumpkin patches\n",
      "hiking\n",
      "carve pumpkings\n",
      "corn mazes\n",
      "\n",
      "These are my **kwargs: \n",
      "These are my fav spooky movies: \n",
      "Genre is possession\n",
      "Movie is The Conjuring\n",
      "Genre is gore\n",
      "Movie is Saw\n",
      "Genre is animatedish\n",
      "Movie is Nightmare before Christmas\n"
     ]
    }
   ],
   "source": [
    "def halloween_time(season, *fun_things, **fav_movies):\n",
    "    print(\"This is my positional argument: \")\n",
    "    print(f\"my fav time of year is {season}\\n\")\n",
    "    print(\"These are my *args: \")\n",
    "    print(\"These are the things I like to do: \")\n",
    "    for pumpkins in fun_things:\n",
    "        print(pumpkins)\n",
    "    print(\"\\nThese are my **kwargs: \")\n",
    "    print(\"These are my fav spooky movies: \")\n",
    "    for key, value in fav_movies.items():\n",
    "        print(f\"Genre is {key}\")\n",
    "        print(f\"Movie is {value}\")\n",
    "halloween_time(\"Fall\", \"pumpkin patches\", \"hiking\",\"carve pumpkings\",\"corn mazes\", possession = \"The Conjuring\", gore = \"Saw\", animatedish = \"Nightmare before Christmas\")"
   ]
  },
  {
   "cell_type": "markdown",
   "metadata": {},
   "source": [
    "##### Docstring"
   ]
  },
  {
   "cell_type": "code",
   "execution_count": 34,
   "metadata": {},
   "outputs": [],
   "source": [
    "# docstring gives information about the function\n",
    "\n",
    "def print_names(arr):\n",
    "    \"\"\"\n",
    "    requires a list to be passed as a parameter and will print the \n",
    "    contents of the list. It is expecting a list of strings.\n",
    "    \"\"\"\n",
    "    for name in arr:\n",
    "        print(name)\n",
    "        \n",
    "\n"
   ]
  },
  {
   "cell_type": "code",
   "execution_count": null,
   "metadata": {},
   "outputs": [],
   "source": [
    "print(print(names()))"
   ]
  },
  {
   "cell_type": "markdown",
   "metadata": {},
   "source": [
    "##### Using a User Function in a Loop"
   ]
  },
  {
   "cell_type": "code",
   "execution_count": 35,
   "metadata": {},
   "outputs": [
    {
     "name": "stdout",
     "output_type": "stream",
     "text": [
      "What do you wand to do today? code\n",
      "Your answer is code\n",
      "Do you want to quit? no\n",
      "What do you wand to do today? bowling\n",
      "Your answer is bowling\n",
      "Do you want to quit? yes\n"
     ]
    }
   ],
   "source": [
    "def print_input(answer):\n",
    "    print(f\"Your answer is {answer}\")\n",
    "\n",
    "while True:\n",
    "    ask = input(\"What do you wand to do today? \")\n",
    "    \n",
    "    print_input(ask)\n",
    "    \n",
    "    response = input(\"Do you want to quit? \")\n",
    "    if response.lower().strip() == 'yes':\n",
    "        break"
   ]
  },
  {
   "cell_type": "code",
   "execution_count": 40,
   "metadata": {},
   "outputs": [
    {
     "name": "stdout",
     "output_type": "stream",
     "text": [
      "this is our num: 1\n",
      "this is our multipliation of num: 2\n",
      "this is our num: 2\n",
      "this is our multipliation of num: 4\n",
      "this is our num: 3\n",
      "this is our multipliation of num: 6\n",
      "this is our num: 4\n",
      "this is our multipliation of num: 8\n",
      "this is our num: 5\n",
      "this is our multipliation of num: 10\n"
     ]
    }
   ],
   "source": [
    "#helper functions are functions that perform a task within another loop or function.\n",
    "#Used a lot when that particular utility needs to be used multiple times\n",
    "\n",
    "def times_two(num):\n",
    "    \n",
    "    return num * 2\n",
    "\n",
    "def my_range(stop, start, step = 1):\n",
    "    for i in range(start,stop,step):\n",
    "        print(f\"this is our num: {i}\")\n",
    "        print(f\"this is our multipliation of num: {times_two(i)}\")\n",
    "        \n",
    "my_range(6,1)\n"
   ]
  },
  {
   "cell_type": "markdown",
   "metadata": {},
   "source": [
    "## Function Exercises <br>\n",
    "### Exercise 1\n",
    "<p>Write a function that loops through a list of first_names and a list of last_names, combines the two and return a list of full_names</p>"
   ]
  },
  {
   "cell_type": "code",
   "execution_count": 42,
   "metadata": {},
   "outputs": [
    {
     "data": {
      "text/plain": [
       "['John Smith', 'Evan Smith', 'Jordan Williams', 'Max Bell']"
      ]
     },
     "execution_count": 42,
     "metadata": {},
     "output_type": "execute_result"
    }
   ],
   "source": [
    "first_name = ['John', 'Evan', 'Jordan', 'Max']\n",
    "last_name = ['Smith', 'Smith', 'Williams', 'Bell']\n",
    "\n",
    "# Output: ['John Smith', 'Evan Smith', 'Jordan Williams', 'Max Bell']\n",
    "\n",
    "def full_name(first, last):\n",
    "    \"\"\"\n",
    "    combines the first and last names together to return a full name\n",
    "    \"\"\"\n",
    "    return (first + \" \" + last).title()\n",
    "\n",
    "def names(first_name, last_name):\n",
    "    full = []\n",
    "    for i in range(len(first_name)):\n",
    "        whole_name = full_name(first_name[i], last_name[i])\n",
    "        full.append(whole_name)\n",
    "    return full\n",
    "\n",
    "names(first_name, last_name)"
   ]
  },
  {
   "cell_type": "markdown",
   "metadata": {},
   "source": [
    "### Exercise 2\n",
    "Create a function that alters all values in the given list by subtracting 5 and then doubling them."
   ]
  },
  {
   "cell_type": "code",
   "execution_count": 52,
   "metadata": {},
   "outputs": [
    {
     "data": {
      "text/plain": [
       "[[0, 5, 10, 15, -2, 0, 5, 10, 15, -2],\n",
       " [0, 5, 10, 15, -2, 0, 5, 10, 15, -2],\n",
       " [0, 5, 10, 15, -2, 0, 5, 10, 15, -2],\n",
       " [0, 5, 10, 15, -2, 0, 5, 10, 15, -2],\n",
       " [0, 5, 10, 15, -2, 0, 5, 10, 15, -2]]"
      ]
     },
     "execution_count": 52,
     "metadata": {},
     "output_type": "execute_result"
    }
   ],
   "source": [
    "input_list = [5,10,15,20,3]\n",
    "# output = [0,10,20,30,-4]\n",
    "\n",
    "# def math(nums):\n",
    "#     \"\"\"\n",
    "#     takes all values in a list and subtracts 5 then doubles the difference\n",
    "#     \"\"\"\n",
    "#     result_list = []\n",
    "#     for num in nums:\n",
    "#         result = (num - 5) *2\n",
    "#         result_list.append(result)\n",
    "#     return result_list\n",
    "\n",
    "# math(input_list)\n",
    "\n",
    "#another way of doing it, using helper functions\n",
    "def subtract(nums):\n",
    "    \"\"\"\n",
    "    subtracts 5 from all numbers in a list\n",
    "    \"\"\"\n",
    "    sub_result = []\n",
    "    for num in nums:\n",
    "        result = num - 5\n",
    "        sub_result.append(result)\n",
    "    return sub_result\n",
    "\n",
    "def double(nums):\n",
    "    \"\"\"\n",
    "    doubles all numbers in a list\n",
    "    \"\"\"\n",
    "    dub_result = []\n",
    "    for num in nums:\n",
    "        sub = subtract(nums)\n",
    "        result = sub * 2\n",
    "        dub_result.append(result)\n",
    "    return dub_result\n",
    "\n",
    "double(input_list)"
   ]
  },
  {
   "cell_type": "markdown",
   "metadata": {},
   "source": [
    "### Exercise 3\n",
    "Create a function that takes in a list of strings and filters out the strings that DO NOT contain vowels. "
   ]
  },
  {
   "cell_type": "code",
   "execution_count": 61,
   "metadata": {},
   "outputs": [
    {
     "data": {
      "text/plain": [
       "['Sheldon', 'Leonard', 'Amy']"
      ]
     },
     "execution_count": 61,
     "metadata": {},
     "output_type": "execute_result"
    }
   ],
   "source": [
    "string_list = ['Sheldon','Pnny','Leonard','Hwrd','Rj','Amy','Strt']\n",
    "# output = ['Sheldon','Leonard','Amy']\n",
    "\n",
    "def vowel(names):\n",
    "    vowels = []\n",
    "    for name in names:\n",
    "        if \"a\" in name.lower():\n",
    "            vowels.append(name)\n",
    "        elif \"e\" in name.lower():\n",
    "            vowels.append(name)\n",
    "        elif \"i\" in name.lower():\n",
    "            vowels.append(name)\n",
    "        elif \"o\" in name.lower():\n",
    "            vowels.append(name)\n",
    "        elif \"u\" in name.lower():\n",
    "            vowels.append(name)\n",
    "        else:\n",
    "            continue\n",
    "    return vowels\n",
    "\n",
    "vowel(string_list)\n",
    "        \n",
    "            \n"
   ]
  },
  {
   "cell_type": "code",
   "execution_count": 62,
   "metadata": {},
   "outputs": [
    {
     "data": {
      "text/plain": [
       "['Sheldon', 'Leonard', 'Amy']"
      ]
     },
     "execution_count": 62,
     "metadata": {},
     "output_type": "execute_result"
    }
   ],
   "source": [
    "string_list = ['Sheldon','Pnny','Leonard','Hwrd','Rj','Amy','Strt']\n",
    "def strings_with_vowels(arr):\n",
    "    \"\"\"\n",
    "    function that takes in a list of strings and filters out the strings \n",
    "    that DO NOT contain vowels.\n",
    "    \n",
    "    Returns a list.\n",
    "    \"\"\"\n",
    "    return [word for word in arr if 'a' in word.lower() \n",
    "            or 'e' in word.lower() or 'i' in word.lower()\n",
    "            or 'o' in word.lower() or 'u' in word.lower()]\n",
    "\n",
    "strings_with_vowels(string_list)\n"
   ]
  },
  {
   "cell_type": "markdown",
   "metadata": {},
   "source": [
    "### Exercise 4\n",
    "Create a function that accepts a list as a parameter and returns a dictionary containing the list items as it's keys, and the number of times they appear in the list as the values"
   ]
  },
  {
   "cell_type": "code",
   "execution_count": 71,
   "metadata": {},
   "outputs": [
    {
     "data": {
      "text/plain": [
       "{'Harry': 3, 'Hermione': 2, 'Ron': 4, 'Dobby': 1, 'Draco': 1, 'Luna': 1}"
      ]
     },
     "execution_count": 71,
     "metadata": {},
     "output_type": "execute_result"
    }
   ],
   "source": [
    "example_list = [\"Harry\", 'Hermione','Harry','Ron','Dobby','Draco','Luna','Harry','Hermione','Ron','Ron','Ron']\n",
    "\n",
    "# output = {\n",
    "#     \"Harry\":3,\n",
    "#     \"Hermione\":2,\n",
    "#     \"Ron\":4,\n",
    "#     \"Dobby\":1,\n",
    "#     \"Draco\":1,\n",
    "#     \"Luna\": 1\n",
    "# }\n",
    "\n",
    "def name_count(names):\n",
    "    dict = {}\n",
    "    for name in names:\n",
    "        count = 0\n",
    "        for i in range(len(names)):\n",
    "            if name == names[i]:\n",
    "                count += 1\n",
    "        dict[name] = count\n",
    "    return dict\n",
    "name_count(example_list)"
   ]
  },
  {
   "cell_type": "code",
   "execution_count": 72,
   "metadata": {},
   "outputs": [
    {
     "name": "stdout",
     "output_type": "stream",
     "text": [
      "{'Harry': 3, 'Hermione': 2, 'Ron': 4, 'Dobby': 1, 'Draco': 1, 'Luna': 1}\n"
     ]
    }
   ],
   "source": [
    "example_list = [\"Harry\", 'Hermione','Harry','Ron','Dobby','Draco','Luna','Harry','Hermione','Ron','Ron','Ron']\n",
    "\n",
    "# output = {\n",
    "#     \"Harry\":3,\n",
    "#     \"Hermione\":2,\n",
    "#     \"Ron\":4,\n",
    "#     \"Dobby\":1,\n",
    "#     \"Draco\":1,\n",
    "#     \"Luna\": 1\n",
    "# }\n",
    "#This seems like an easier way of doing exactly what I did above (from Kathy btw)\n",
    "def list_to_dict(list):\n",
    "    new_dict = {}\n",
    "    for name in list:\n",
    "        if name not in new_dict:\n",
    "            new_dict[name] = 1\n",
    "        else:\n",
    "            new_dict[name] += 1\n",
    "    return new_dict\n",
    "\n",
    "print(list_to_dict(example_list))\n"
   ]
  },
  {
   "cell_type": "code",
   "execution_count": 73,
   "metadata": {},
   "outputs": [
    {
     "name": "stdout",
     "output_type": "stream",
     "text": [
      "{'Harry': 3, 'Hermione': 2, 'Ron': 4, 'Dobby': 1, 'Draco': 1, 'Luna': 1}\n"
     ]
    }
   ],
   "source": [
    "# Using dictionary comprehension (Chrislee)\n",
    "example_list = [\"Harry\", 'Hermione','Harry','Ron','Dobby','Draco','Luna','Harry','Hermione','Ron','Ron','Ron']\n",
    "\n",
    "#example_list.count(\"Harry\")\n",
    "#print(example_list.count(\"Harry\"))\n",
    "\n",
    "hogwarts_dict = {name:example_list.count(name) for name in example_list}\n",
    "\n",
    "print(hogwarts_dict)\n"
   ]
  },
  {
   "cell_type": "markdown",
   "metadata": {},
   "source": [
    "\n",
    "\n",
    "## Scope <br>\n",
    "<p>Scope refers to the ability to access variables, different types of scope include:<br>a) Global<br>b) Function (local)<br>c) Class (local)</p>"
   ]
  },
  {
   "cell_type": "code",
   "execution_count": 74,
   "metadata": {},
   "outputs": [
    {
     "name": "stdout",
     "output_type": "stream",
     "text": [
      "3\n",
      "6\n",
      "6\n"
     ]
    }
   ],
   "source": [
    "# placement of variable declaration matters\n",
    "\n",
    "number = 3 # Gloal Variable\n",
    "\n",
    "def myFunc():\n",
    "    num_3 = 6 # Local Function Variable\n",
    "    return num_3\n",
    "\n",
    "print(number)\n",
    "\n",
    "#calling a function\n",
    "print(myFunc())\n",
    "\n",
    "#storing a function call at a variable\n",
    "return_num = myFunc()\n",
    "print(return_num)"
   ]
  },
  {
   "cell_type": "markdown",
   "metadata": {},
   "source": [
    "# Homework Exercises"
   ]
  },
  {
   "cell_type": "markdown",
   "metadata": {},
   "source": [
    "## Exercise 1 <br>\n",
    "<p>Given a list as a parameter,write a function that returns a list of numbers that are less than ten</b></i></p><br>\n",
    "<p> For example: Say your input parameter to the function is [1,11,14,5,8,9]...Your output should [1,5,8,9]</p>"
   ]
  },
  {
   "cell_type": "code",
   "execution_count": 1,
   "metadata": {},
   "outputs": [
    {
     "data": {
      "text/plain": [
       "[1, 5, 8, 9]"
      ]
     },
     "execution_count": 1,
     "metadata": {},
     "output_type": "execute_result"
    }
   ],
   "source": [
    "# Use the following list - [1,11,14,5,8,9]\n",
    "\n",
    "l_1 = [1,11,14,5,8,9]\n",
    "\n",
    "def under_10(nums):\n",
    "    \"\"\"\n",
    "    returns a list of the numbers under 10 from the given list\n",
    "    \"\"\"\n",
    "    output = []\n",
    "    for num in nums:\n",
    "        if num < 10:\n",
    "            output.append(num)\n",
    "        else:\n",
    "            continue\n",
    "    return output\n",
    "            \n",
    "under_10(l_1)"
   ]
  },
  {
   "cell_type": "markdown",
   "metadata": {},
   "source": [
    "## Exercise 2 <br>\n",
    "<p>Write a function that takes in two lists and returns the two lists merged together and sorted<br>\n",
    "<b><i>Hint: You can use the .sort() method</i></b></p>"
   ]
  },
  {
   "cell_type": "code",
   "execution_count": 7,
   "metadata": {},
   "outputs": [
    {
     "name": "stdout",
     "output_type": "stream",
     "text": [
      "[1, 2, 3, 3, 4, 4, 5, 5, 6, 6, 7, 8, 10]\n"
     ]
    }
   ],
   "source": [
    "l_1 = [1,2,3,4,5,6]\n",
    "l_2 = [3,4,5,6,7,8,10]\n",
    "\n",
    "def merge(list1, list2):\n",
    "    \"\"\"\n",
    "    merges and sorts two lists\n",
    "    \"\"\"\n",
    "    output = list1 + list2\n",
    "    output.sort()\n",
    "    return output\n",
    "\n",
    "print(merge(l_1, l_2))"
   ]
  }
 ],
 "metadata": {
  "kernelspec": {
   "display_name": "Python 3 (ipykernel)",
   "language": "python",
   "name": "python3"
  },
  "language_info": {
   "codemirror_mode": {
    "name": "ipython",
    "version": 3
   },
   "file_extension": ".py",
   "mimetype": "text/x-python",
   "name": "python",
   "nbconvert_exporter": "python",
   "pygments_lexer": "ipython3",
   "version": "3.9.12"
  }
 },
 "nbformat": 4,
 "nbformat_minor": 2
}
